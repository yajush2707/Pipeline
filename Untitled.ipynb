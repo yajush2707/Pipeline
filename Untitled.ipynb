{
 "cells": [
  {
   "cell_type": "code",
   "execution_count": 6,
   "id": "50238927-264a-4f86-be5e-4b33d040f947",
   "metadata": {},
   "outputs": [],
   "source": [
    "import test\n",
    "import imp"
   ]
  },
  {
   "cell_type": "code",
   "execution_count": 7,
   "id": "933484d6-8ca9-4090-8418-acc96854a251",
   "metadata": {},
   "outputs": [
    {
     "name": "stdout",
     "output_type": "stream",
     "text": [
      "test without reload\n"
     ]
    }
   ],
   "source": [
    "test.test()"
   ]
  },
  {
   "cell_type": "code",
   "execution_count": 9,
   "id": "6bef2812-473c-4805-b7bf-9359eed6115f",
   "metadata": {},
   "outputs": [
    {
     "name": "stdout",
     "output_type": "stream",
     "text": [
      "test without reload\n",
      "test with reload\n"
     ]
    }
   ],
   "source": [
    "imp.reload(test)\n",
    "test.test()"
   ]
  },
  {
   "cell_type": "code",
   "execution_count": null,
   "id": "18d8959d-ff43-4fec-ae7a-33964fb20a0b",
   "metadata": {},
   "outputs": [],
   "source": []
  }
 ],
 "metadata": {
  "kernelspec": {
   "display_name": "Python 3",
   "language": "python",
   "name": "python3"
  },
  "language_info": {
   "codemirror_mode": {
    "name": "ipython",
    "version": 3
   },
   "file_extension": ".py",
   "mimetype": "text/x-python",
   "name": "python",
   "nbconvert_exporter": "python",
   "pygments_lexer": "ipython3",
   "version": "3.6.13"
  }
 },
 "nbformat": 4,
 "nbformat_minor": 5
}
