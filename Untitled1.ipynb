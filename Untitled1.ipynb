{
 "cells": [
  {
   "cell_type": "markdown",
   "id": "fca28992-a8aa-427c-807c-7c27991feb37",
   "metadata": {},
   "source": [
    "# 1. How to verify a working API"
   ]
  },
  {
   "cell_type": "code",
   "execution_count": 10,
   "id": "0ecd0799-ce0c-4c86-b03d-eb44a62b536a",
   "metadata": {},
   "outputs": [
    {
     "name": "stdout",
     "output_type": "stream",
     "text": [
      "{\"status\":\"ok\"}\n",
      "\n"
     ]
    }
   ],
   "source": [
    "import requests\n",
    "\n",
    "url = 'http://127.0.0.1:5000/users'\n",
    "myobj = {'data': 'pragmalab'}\n",
    "\n",
    "x = requests.post(url, data = myobj)\n",
    "\n",
    "print(x.text)"
   ]
  },
  {
   "cell_type": "code",
   "execution_count": null,
   "id": "e332610f-d16c-4e85-b43b-ec3eac05b3fc",
   "metadata": {},
   "outputs": [],
   "source": [
    "'http://127.0.0.1:5000/users?data=Unnamed,...Unnamed01:...'"
   ]
  }
 ],
 "metadata": {
  "kernelspec": {
   "display_name": "Python 3",
   "language": "python",
   "name": "python3"
  },
  "language_info": {
   "codemirror_mode": {
    "name": "ipython",
    "version": 3
   },
   "file_extension": ".py",
   "mimetype": "text/x-python",
   "name": "python",
   "nbconvert_exporter": "python",
   "pygments_lexer": "ipython3",
   "version": "3.6.13"
  }
 },
 "nbformat": 4,
 "nbformat_minor": 5
}
