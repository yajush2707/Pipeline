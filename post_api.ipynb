{
 "cells": [
  {
   "cell_type": "code",
   "execution_count": 13,
   "id": "4a2aa7d2-13cb-4542-bc51-7afa38e802b6",
   "metadata": {},
   "outputs": [
    {
     "name": "stdout",
     "output_type": "stream",
     "text": [
      " * Serving Flask app \"__main__\" (lazy loading)\n",
      " * Environment: production\n",
      "   WARNING: This is a development server. Do not use it in a production deployment.\n",
      "   Use a production WSGI server instead.\n",
      " * Debug mode: off\n"
     ]
    },
    {
     "name": "stderr",
     "output_type": "stream",
     "text": [
      " * Running on http://127.0.0.1:5000/ (Press CTRL+C to quit)\n",
      "127.0.0.1 - - [16/Feb/2022 13:42:33] \"\u001b[37mPOST /users HTTP/1.1\u001b[0m\" 200 -\n"
     ]
    },
    {
     "name": "stdout",
     "output_type": "stream",
     "text": [
      "germany=cologne\n"
     ]
    },
    {
     "name": "stderr",
     "output_type": "stream",
     "text": [
      "127.0.0.1 - - [16/Feb/2022 13:43:15] \"\u001b[37mPOST /users HTTP/1.1\u001b[0m\" 200 -\n"
     ]
    },
    {
     "name": "stdout",
     "output_type": "stream",
     "text": [
      "data=Unamed%3A....%2C+Unnamed01%3A.....\n"
     ]
    },
    {
     "name": "stderr",
     "output_type": "stream",
     "text": [
      "127.0.0.1 - - [16/Feb/2022 13:46:01] \"\u001b[37mPOST /users HTTP/1.1\u001b[0m\" 200 -\n"
     ]
    },
    {
     "name": "stdout",
     "output_type": "stream",
     "text": [
      "data=pragmalab\n"
     ]
    }
   ],
   "source": [
    "from flask import request, jsonify, Flask\n",
    "\n",
    "app = Flask(__name__)\n",
    "@app.route('/users', methods = ['POST']) \n",
    "def new_user():\n",
    "    user_data = request.get_data(as_text=True) # \n",
    "    # add here the code to create the user\n",
    "    test = jsonify(user_data)\n",
    "    res = {\"status\": \"ok\"}\n",
    "    print(user_data)\n",
    "    return jsonify(res)\n",
    "\n",
    "app.run()"
   ]
  },
  {
   "cell_type": "markdown",
   "id": "a9966043-88db-4f5a-9295-2db1db03bc8d",
   "metadata": {},
   "source": [
    "root@88.198.77.24\n",
    "ijRftVudpjmn93VvtXse"
   ]
  },
  {
   "cell_type": "code",
   "execution_count": null,
   "id": "2d83b2df-d468-4bdd-a706-d0b202e70bef",
   "metadata": {},
   "outputs": [],
   "source": []
  }
 ],
 "metadata": {
  "kernelspec": {
   "display_name": "Python 3",
   "language": "python",
   "name": "python3"
  },
  "language_info": {
   "codemirror_mode": {
    "name": "ipython",
    "version": 3
   },
   "file_extension": ".py",
   "mimetype": "text/x-python",
   "name": "python",
   "nbconvert_exporter": "python",
   "pygments_lexer": "ipython3",
   "version": "3.6.13"
  }
 },
 "nbformat": 4,
 "nbformat_minor": 5
}
